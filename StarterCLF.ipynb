{
 "cells": [
  {
   "cell_type": "code",
   "execution_count": 1,
   "metadata": {
    "collapsed": false,
    "scrolled": true
   },
   "outputs": [],
   "source": [
    "import numpy as np\n",
    "import MasterClassCLF\n",
    "import pandas as pd"
   ]
  },
  {
   "cell_type": "code",
   "execution_count": 3,
   "metadata": {
    "collapsed": false
   },
   "outputs": [],
   "source": [
    "w = MasterClassCLF.Master(\"diabetes_data.csv\")"
   ]
  },
  {
   "cell_type": "code",
   "execution_count": 4,
   "metadata": {
    "collapsed": false
   },
   "outputs": [],
   "source": [
    "w.pass_features(['pregnant', 'glucose'])"
   ]
  },
  {
   "cell_type": "code",
   "execution_count": 5,
   "metadata": {
    "collapsed": true
   },
   "outputs": [],
   "source": [
    "w.pass_labels(\"label\")"
   ]
  },
  {
   "cell_type": "code",
   "execution_count": 6,
   "metadata": {
    "collapsed": true
   },
   "outputs": [],
   "source": [
    "s = w.get_X()"
   ]
  },
  {
   "cell_type": "code",
   "execution_count": 7,
   "metadata": {
    "collapsed": true
   },
   "outputs": [],
   "source": [
    "w.split_data(0.3)"
   ]
  },
  {
   "cell_type": "code",
   "execution_count": 8,
   "metadata": {
    "collapsed": false
   },
   "outputs": [],
   "source": [
    "w.classifierclf()"
   ]
  },
  {
   "cell_type": "code",
   "execution_count": 9,
   "metadata": {
    "collapsed": false
   },
   "outputs": [
    {
     "name": "stdout",
     "output_type": "stream",
     "text": [
      "simple accuracy :  0.753246753247\n",
      "confusion matrix :  [[126  21]\n",
      " [ 36  48]]\n",
      "recall score :  0.571428571429\n",
      "precision score :  0.695652173913\n",
      "cross validation score of roc auc 0.80416951567\n",
      "Time spent in Naive Bayes is =  0.06806373596191406\n"
     ]
    }
   ],
   "source": [
    "w.NB()"
   ]
  },
  {
   "cell_type": "code",
   "execution_count": null,
   "metadata": {
    "collapsed": true
   },
   "outputs": [],
   "source": []
  },
  {
   "cell_type": "code",
   "execution_count": 10,
   "metadata": {
    "collapsed": false
   },
   "outputs": [
    {
     "name": "stdout",
     "output_type": "stream",
     "text": [
      "simple accuracy :  0.74025974026\n",
      "confusion matrix :  [[128  19]\n",
      " [ 41  43]]\n",
      "recall score :  0.511904761905\n",
      "precision score :  0.693548387097\n",
      "Time spent in Logistic Regression is =  0.015547990798950195\n"
     ]
    }
   ],
   "source": [
    "w.LogReg()"
   ]
  },
  {
   "cell_type": "code",
   "execution_count": 11,
   "metadata": {
    "collapsed": false
   },
   "outputs": [
    {
     "name": "stdout",
     "output_type": "stream",
     "text": [
      "simple accuracy :  0.688311688312\n",
      "confusion matrix :  [[118  29]\n",
      " [ 43  41]]\n",
      "recall score :  0.488095238095\n",
      "precision score :  0.585714285714\n",
      "cross validation score of roc auc 0.625198005698\n",
      "Time spent in Decision Tree is =  0.06905579566955566\n"
     ]
    }
   ],
   "source": [
    "w.DecTree()"
   ]
  },
  {
   "cell_type": "code",
   "execution_count": 12,
   "metadata": {
    "collapsed": false
   },
   "outputs": [
    {
     "name": "stdout",
     "output_type": "stream",
     "text": [
      "simple accuracy :  0.735930735931\n",
      "confusion matrix :  [[120  27]\n",
      " [ 34  50]]\n",
      "recall score :  0.595238095238\n",
      "precision score :  0.649350649351\n",
      "cross validation score of roc auc 0.782034188034\n",
      "Time spent in AdaBoost is =  0.9622251987457275\n"
     ]
    }
   ],
   "source": [
    "w.AdaBoostClf()"
   ]
  },
  {
   "cell_type": "code",
   "execution_count": 13,
   "metadata": {
    "collapsed": false
   },
   "outputs": [
    {
     "name": "stdout",
     "output_type": "stream",
     "text": [
      "simple accuracy :  0.701298701299\n",
      "confusion matrix :  [[129  18]\n",
      " [ 51  33]]\n",
      "recall score :  0.392857142857\n",
      "precision score :  0.647058823529\n",
      "cross validation score of roc auc 0.695414529915\n",
      "Time spent in Support Vector Machine is =  0.33865857124328613\n"
     ]
    }
   ],
   "source": [
    "w.SVM()"
   ]
  },
  {
   "cell_type": "code",
   "execution_count": 14,
   "metadata": {
    "collapsed": false
   },
   "outputs": [
    {
     "name": "stdout",
     "output_type": "stream",
     "text": [
      "simple accuracy :  0.757575757576\n",
      "confusion matrix :  [[121  26]\n",
      " [ 30  54]]\n",
      "recall score :  0.642857142857\n",
      "precision score :  0.675\n",
      "cross validation score of roc auc 0.71442022792\n",
      "Time spent in K Nearest Neighbor is =  0.08461546897888184\n"
     ]
    }
   ],
   "source": [
    "w.KNN()"
   ]
  },
  {
   "cell_type": "code",
   "execution_count": 15,
   "metadata": {
    "collapsed": false
   },
   "outputs": [
    {
     "name": "stdout",
     "output_type": "stream",
     "text": [
      "simple accuracy :  0.722943722944\n",
      "confusion matrix :  [[125  22]\n",
      " [ 42  42]]\n",
      "recall score :  0.5\n",
      "precision score :  0.65625\n",
      "cross validation score of roc auc 0.787374643875\n",
      "Time spent in Random Forest is =  0.23804068565368652\n"
     ]
    }
   ],
   "source": [
    "w.RanForClf()"
   ]
  },
  {
   "cell_type": "code",
   "execution_count": 16,
   "metadata": {
    "collapsed": false
   },
   "outputs": [
    {
     "name": "stdout",
     "output_type": "stream",
     "text": [
      "simple accuracy :  0.688311688312\n",
      "confusion matrix :  [[117  30]\n",
      " [ 42  42]]\n",
      "recall score :  0.5\n",
      "precision score :  0.583333333333\n",
      "cross validation score of roc auc 0.635086894587\n",
      "Time spent in Decision Tree is =  0.052405357360839844\n"
     ]
    }
   ],
   "source": [
    "w.DecTree()"
   ]
  },
  {
   "cell_type": "code",
   "execution_count": null,
   "metadata": {
    "collapsed": true
   },
   "outputs": [],
   "source": []
  }
 ],
 "metadata": {
  "anaconda-cloud": {},
  "kernelspec": {
   "display_name": "Python [default]",
   "language": "python",
   "name": "python3"
  },
  "language_info": {
   "codemirror_mode": {
    "name": "ipython",
    "version": 3
   },
   "file_extension": ".py",
   "mimetype": "text/x-python",
   "name": "python",
   "nbconvert_exporter": "python",
   "pygments_lexer": "ipython3",
   "version": "3.5.2"
  }
 },
 "nbformat": 4,
 "nbformat_minor": 2
}
