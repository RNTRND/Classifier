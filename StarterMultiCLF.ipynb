{
 "cells": [
  {
   "cell_type": "code",
   "execution_count": 1,
   "metadata": {
    "collapsed": false,
    "scrolled": true
   },
   "outputs": [],
   "source": [
    "import numpy as np\n",
    "import MasterClassMultiCLF\n",
    "import pandas as pd"
   ]
  },
  {
   "cell_type": "code",
   "execution_count": 2,
   "metadata": {
    "collapsed": false
   },
   "outputs": [],
   "source": [
    "w = MasterClassMultiCLF.Master(\"IRIS1.csv\")"
   ]
  },
  {
   "cell_type": "code",
   "execution_count": 3,
   "metadata": {
    "collapsed": false
   },
   "outputs": [],
   "source": [
    "w.pass_features(['A', 'B', 'C'])"
   ]
  },
  {
   "cell_type": "code",
   "execution_count": 5,
   "metadata": {
    "collapsed": false
   },
   "outputs": [],
   "source": [
    "w.pass_labels(\"Label\")"
   ]
  },
  {
   "cell_type": "code",
   "execution_count": 6,
   "metadata": {
    "collapsed": true
   },
   "outputs": [],
   "source": [
    "w.split_data(0.3)"
   ]
  },
  {
   "cell_type": "code",
   "execution_count": 7,
   "metadata": {
    "collapsed": false
   },
   "outputs": [],
   "source": [
    "w.classifiermulticlf()"
   ]
  },
  {
   "cell_type": "markdown",
   "metadata": {},
   "source": [
    "### URL = http://scikit-learn.org/stable/modules/naive_bayes.html"
   ]
  },
  {
   "cell_type": "code",
   "execution_count": 8,
   "metadata": {
    "collapsed": false
   },
   "outputs": [
    {
     "name": "stdout",
     "output_type": "stream",
     "text": [
      "simple accuracy :  0.766666666667\n",
      "confusion matrix :  [[11  0  0]\n",
      " [ 1  7  4]\n",
      " [ 0  2  5]]\n",
      "precision: [ 0.91666667  0.77777778  0.55555556]\n",
      "recall: [ 1.          0.58333333  0.71428571]\n",
      "fscore: [ 0.95652174  0.66666667  0.625     ]\n",
      "support: [11 12  7]\n",
      "Time spent in Naive Bayes is =  0.239013671875\n"
     ]
    }
   ],
   "source": [
    "w.NB()"
   ]
  },
  {
   "cell_type": "markdown",
   "metadata": {},
   "source": [
    "### LogisticRegression(penalty='l2', dual=False, tol=0.0001, C=1.0, fit_intercept=True, intercept_scaling=1, class_weight=None, random_state=None, solver='liblinear', max_iter=100, multi_class='ovr', verbose=0, warm_start=False, n_jobs=1\n",
    "\n",
    "### URL = http://scikit-learn.org/stable/modules/generated/sklearn.linear_model.LogisticRegression.html"
   ]
  },
  {
   "cell_type": "code",
   "execution_count": 10,
   "metadata": {
    "collapsed": false
   },
   "outputs": [
    {
     "name": "stdout",
     "output_type": "stream",
     "text": [
      "simple accuracy :  0.633333333333\n",
      "confusion matrix :  [[11  0  0]\n",
      " [ 0  1 11]\n",
      " [ 0  0  7]]\n",
      "precision: [ 1.          1.          0.38888889]\n",
      "recall: [ 1.          0.08333333  1.        ]\n",
      "fscore: [ 1.          0.15384615  0.56      ]\n",
      "support: [11 12  7]\n",
      "Time spent in Logistic Regression is =  0.01800084114074707\n"
     ]
    }
   ],
   "source": [
    "w.LogReg(C=0.5)"
   ]
  },
  {
   "cell_type": "markdown",
   "metadata": {},
   "source": [
    "### DecisionTreeClassifier(criterion='gini', splitter='best', max_depth=None, min_samples_split=2, min_samples_leaf=1, min_weight_fraction_leaf=0.0, max_features=None, random_state=None, max_leaf_nodes=None, min_impurity_split=1e-07, class_weight=None, presort=False)\n",
    "\n",
    "### http://scikit-learn.org/stable/modules/generated/sklearn.tree.DecisionTreeClassifier.html#sklearn.tree.DecisionTreeClassifier"
   ]
  },
  {
   "cell_type": "code",
   "execution_count": 11,
   "metadata": {
    "collapsed": false
   },
   "outputs": [
    {
     "name": "stdout",
     "output_type": "stream",
     "text": [
      "simple accuracy :  0.6\n",
      "confusion matrix :  [[11  0  0]\n",
      " [ 1  0 11]\n",
      " [ 0  0  7]]\n",
      "precision: [ 0.91666667  0.          0.38888889]\n",
      "recall: [ 1.  0.  1.]\n",
      "fscore: [ 0.95652174  0.          0.56      ]\n",
      "support: [11 12  7]\n",
      "Time spent in Decision Tree is =  0.09400534629821777\n"
     ]
    },
    {
     "name": "stderr",
     "output_type": "stream",
     "text": [
      "C:\\ProgramData\\Anaconda3\\lib\\site-packages\\sklearn\\metrics\\classification.py:1113: UndefinedMetricWarning: Precision and F-score are ill-defined and being set to 0.0 in labels with no predicted samples.\n",
      "  'precision', 'predicted', average, warn_for)\n"
     ]
    }
   ],
   "source": [
    "w.DecTree(min_samples_split = 50)"
   ]
  },
  {
   "cell_type": "markdown",
   "metadata": {},
   "source": [
    "### AdaBoostClassifier(base_estimator=None, n_estimators=50, learning_rate=1.0, algorithm='SAMME.R', random_state=None)\n",
    "\n",
    "### URL = http://scikit-learn.org/stable/modules/generated/sklearn.ensemble.AdaBoostClassifier.html"
   ]
  },
  {
   "cell_type": "code",
   "execution_count": 12,
   "metadata": {
    "collapsed": false
   },
   "outputs": [
    {
     "name": "stdout",
     "output_type": "stream",
     "text": [
      "simple accuracy :  0.766666666667\n",
      "confusion matrix :  [[11  0  0]\n",
      " [ 0  6  6]\n",
      " [ 0  1  6]]\n",
      "precision: [ 1.          0.85714286  0.5       ]\n",
      "recall: [ 1.          0.5         0.85714286]\n",
      "fscore: [ 1.          0.63157895  0.63157895]\n",
      "support: [11 12  7]\n",
      "Time spent in AdaBoost is =  0.14900827407836914\n"
     ]
    }
   ],
   "source": [
    "w.AdaBoostClf()"
   ]
  },
  {
   "cell_type": "markdown",
   "metadata": {},
   "source": [
    "### SVC(C=1.0, kernel='rbf', degree=3, gamma='auto', coef0=0.0, shrinking=True, probability=False, tol=0.001, cache_size=200, class_weight=None, verbose=False, max_iter=-1, decision_function_shape=None, random_state=None)\n",
    "\n",
    "### URL = http://scikit-learn.org/stable/modules/generated/sklearn.svm.SVC.html"
   ]
  },
  {
   "cell_type": "code",
   "execution_count": 13,
   "metadata": {
    "collapsed": false
   },
   "outputs": [
    {
     "name": "stdout",
     "output_type": "stream",
     "text": [
      "simple accuracy :  0.766666666667\n",
      "confusion matrix :  [[11  0  0]\n",
      " [ 0  7  5]\n",
      " [ 0  2  5]]\n",
      "precision: [ 1.          0.77777778  0.5       ]\n",
      "recall: [ 1.          0.58333333  0.71428571]\n",
      "fscore: [ 1.          0.66666667  0.58823529]\n",
      "support: [11 12  7]\n",
      "Time spent in Support Vector Machine is =  0.4450252056121826\n"
     ]
    }
   ],
   "source": [
    "w.SVM(kernel = 'poly')"
   ]
  },
  {
   "cell_type": "markdown",
   "metadata": {},
   "source": [
    "### KNeighborsClassifier(n_neighbors=5, weights='uniform', algorithm='auto', leaf_size=30, p=2, metric='minkowski', metric_params=None, n_jobs=1, **kwargs)\n",
    "\n",
    "### URL = http://scikit-learn.org/stable/modules/generated/sklearn.neighbors.KNeighborsClassifier.html"
   ]
  },
  {
   "cell_type": "code",
   "execution_count": 14,
   "metadata": {
    "collapsed": false
   },
   "outputs": [
    {
     "name": "stdout",
     "output_type": "stream",
     "text": [
      "simple accuracy :  0.666666666667\n",
      "confusion matrix :  [[11  0  0]\n",
      " [ 1  6  5]\n",
      " [ 0  4  3]]\n",
      "precision: [ 0.91666667  0.6         0.375     ]\n",
      "recall: [ 1.          0.5         0.42857143]\n",
      "fscore: [ 0.95652174  0.54545455  0.4       ]\n",
      "support: [11 12  7]\n",
      "Time spent in K Nearest Neighbor is =  0.8770501613616943\n"
     ]
    }
   ],
   "source": [
    "w.KNN()"
   ]
  },
  {
   "cell_type": "markdown",
   "metadata": {},
   "source": [
    "### RandomForestRegressor(n_estimators=10, criterion='mse', max_depth=None, min_samples_split=2, min_samples_leaf=1, min_weight_fraction_leaf=0.0, max_features='auto', max_leaf_nodes=None, min_impurity_split=1e-07, bootstrap=True, oob_score=False, n_jobs=1, random_state=None, verbose=0, warm_start=False)\n",
    "\n",
    "### URL = http://scikit-learn.org/stable/modules/generated/sklearn.ensemble.RandomForestRegressor.html"
   ]
  },
  {
   "cell_type": "code",
   "execution_count": 15,
   "metadata": {
    "collapsed": false
   },
   "outputs": [
    {
     "name": "stdout",
     "output_type": "stream",
     "text": [
      "simple accuracy :  0.7\n",
      "confusion matrix :  [[11  0  0]\n",
      " [ 0  7  5]\n",
      " [ 0  4  3]]\n",
      "precision: [ 1.          0.63636364  0.375     ]\n",
      "recall: [ 1.          0.58333333  0.42857143]\n",
      "fscore: [ 1.          0.60869565  0.4       ]\n",
      "support: [11 12  7]\n",
      "Time spent in Random Forest is =  0.28401637077331543\n"
     ]
    }
   ],
   "source": [
    "w.RanForClf()"
   ]
  },
  {
   "cell_type": "code",
   "execution_count": null,
   "metadata": {
    "collapsed": true
   },
   "outputs": [],
   "source": []
  }
 ],
 "metadata": {
  "kernelspec": {
   "display_name": "Python 3",
   "language": "python",
   "name": "python3"
  },
  "language_info": {
   "codemirror_mode": {
    "name": "ipython",
    "version": 3
   },
   "file_extension": ".py",
   "mimetype": "text/x-python",
   "name": "python",
   "nbconvert_exporter": "python",
   "pygments_lexer": "ipython3",
   "version": "3.6.0"
  }
 },
 "nbformat": 4,
 "nbformat_minor": 2
}
