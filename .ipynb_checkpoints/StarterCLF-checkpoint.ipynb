{
 "cells": [
  {
   "cell_type": "code",
   "execution_count": 1,
   "metadata": {
    "collapsed": false,
    "scrolled": true
   },
   "outputs": [],
   "source": [
    "import numpy as np\n",
    "import MasterClassCLF\n",
    "import pandas as pd"
   ]
  },
  {
   "cell_type": "code",
   "execution_count": 3,
   "metadata": {
    "collapsed": false
   },
   "outputs": [],
   "source": [
    "w = MasterClassCLF.Master(\"diabetes_data.csv\")"
   ]
  },
  {
   "cell_type": "code",
   "execution_count": 4,
   "metadata": {
    "collapsed": false
   },
   "outputs": [],
   "source": [
    "w.pass_features(['pregnant', 'glucose'])"
   ]
  },
  {
   "cell_type": "code",
   "execution_count": 5,
   "metadata": {
    "collapsed": true
   },
   "outputs": [],
   "source": [
    "w.pass_labels(\"label\")"
   ]
  },
  {
   "cell_type": "code",
   "execution_count": 6,
   "metadata": {
    "collapsed": true
   },
   "outputs": [],
   "source": [
    "s = w.get_X()"
   ]
  },
  {
   "cell_type": "code",
   "execution_count": 7,
   "metadata": {
    "collapsed": true
   },
   "outputs": [],
   "source": [
    "w.split_data(0.3)"
   ]
  },
  {
   "cell_type": "code",
   "execution_count": 8,
   "metadata": {
    "collapsed": false
   },
   "outputs": [],
   "source": [
    "w.classifierclf()"
   ]
  },
  {
   "cell_type": "code",
   "execution_count": 9,
   "metadata": {
    "collapsed": false
   },
   "outputs": [
    {
     "name": "stdout",
     "output_type": "stream",
     "text": [
      "simple accuracy :  0.753246753247\n",
      "confusion matrix :  [[126  21]\n",
      " [ 36  48]]\n",
      "recall score :  0.571428571429\n",
      "precision score :  0.695652173913\n",
      "cross validation score of roc auc 0.80416951567\n",
      "Time spent in Naive Bayes is =  0.06806373596191406\n"
     ]
    }
   ],
   "source": [
    "w.NB()"
   ]
  },
  {
   "cell_type": "code",
   "execution_count": 9,
   "metadata": {
    "collapsed": false
   },
   "outputs": [
    {
     "name": "stdout",
     "output_type": "stream",
     "text": [
      "simple accuracy :  0.779220779221\n",
      "confusion matrix :  [[145  15]\n",
      " [ 36  35]]\n",
      "recall score :  0.492957746479\n",
      "precision score :  0.7\n"
     ]
    }
   ],
   "source": [
    "w.LogReg()"
   ]
  },
  {
   "cell_type": "code",
   "execution_count": 10,
   "metadata": {
    "collapsed": false
   },
   "outputs": [
    {
     "name": "stdout",
     "output_type": "stream",
     "text": [
      "simple accuracy :  0.649350649351\n",
      "confusion matrix :  [[117  43]\n",
      " [ 38  33]]\n",
      "recall score :  0.464788732394\n",
      "precision score :  0.434210526316\n",
      "cross validation score of roc auc 0.62504985755\n"
     ]
    }
   ],
   "source": [
    "w.DecTree()"
   ]
  },
  {
   "cell_type": "code",
   "execution_count": 11,
   "metadata": {
    "collapsed": false
   },
   "outputs": [
    {
     "name": "stdout",
     "output_type": "stream",
     "text": [
      "simple accuracy :  0.722943722944\n",
      "confusion matrix :  [[129  31]\n",
      " [ 33  38]]\n",
      "recall score :  0.535211267606\n",
      "precision score :  0.550724637681\n",
      "cross validation score of roc auc 0.71442022792\n"
     ]
    }
   ],
   "source": [
    "w.AdaBoostClf()"
   ]
  },
  {
   "cell_type": "code",
   "execution_count": 12,
   "metadata": {
    "collapsed": false
   },
   "outputs": [
    {
     "name": "stdout",
     "output_type": "stream",
     "text": [
      "simple accuracy :  0.701298701299\n",
      "confusion matrix :  [[136  24]\n",
      " [ 45  26]]\n",
      "recall score :  0.366197183099\n",
      "precision score :  0.52\n",
      "cross validation score of roc auc 0.695414529915\n"
     ]
    }
   ],
   "source": [
    "w.SVM()"
   ]
  },
  {
   "cell_type": "code",
   "execution_count": 9,
   "metadata": {
    "collapsed": false
   },
   "outputs": [
    {
     "name": "stdout",
     "output_type": "stream",
     "text": [
      "simple accuracy :  0.705627705628\n",
      "confusion matrix :  [[125  28]\n",
      " [ 40  38]]\n",
      "recall score :  0.487179487179\n",
      "precision score :  0.575757575758\n",
      "cross validation score of roc auc 0.71442022792\n",
      "Time spent in K Nearest Neighbor is =  0.31801819801330566\n"
     ]
    }
   ],
   "source": [
    "w.KNN()"
   ]
  },
  {
   "cell_type": "code",
   "execution_count": 10,
   "metadata": {
    "collapsed": false
   },
   "outputs": [
    {
     "name": "stdout",
     "output_type": "stream",
     "text": [
      "simple accuracy :  0.774891774892\n",
      "confusion matrix :  [[138  15]\n",
      " [ 37  41]]\n",
      "recall score :  0.525641025641\n",
      "precision score :  0.732142857143\n",
      "cross validation score of roc auc 0.77744017094\n",
      "Time spent in Random Forest is =  0.3630208969116211\n"
     ]
    }
   ],
   "source": [
    "w.RanForClf()"
   ]
  },
  {
   "cell_type": "code",
   "execution_count": 11,
   "metadata": {
    "collapsed": false
   },
   "outputs": [
    {
     "name": "stdout",
     "output_type": "stream",
     "text": [
      "simple accuracy :  0.645021645022\n",
      "confusion matrix :  [[115  38]\n",
      " [ 44  34]]\n",
      "recall score :  0.435897435897\n",
      "precision score :  0.472222222222\n",
      "cross validation score of roc auc 0.629198005698\n",
      "Time spent in Decision Tree is =  0.09900569915771484\n"
     ]
    }
   ],
   "source": [
    "w.DecTree()"
   ]
  },
  {
   "cell_type": "code",
   "execution_count": null,
   "metadata": {
    "collapsed": true
   },
   "outputs": [],
   "source": []
  }
 ],
 "metadata": {
  "anaconda-cloud": {},
  "kernelspec": {
   "display_name": "Python [default]",
   "language": "python",
   "name": "python3"
  },
  "language_info": {
   "codemirror_mode": {
    "name": "ipython",
    "version": 3
   },
   "file_extension": ".py",
   "mimetype": "text/x-python",
   "name": "python",
   "nbconvert_exporter": "python",
   "pygments_lexer": "ipython3",
   "version": "3.5.2"
  }
 },
 "nbformat": 4,
 "nbformat_minor": 2
}
